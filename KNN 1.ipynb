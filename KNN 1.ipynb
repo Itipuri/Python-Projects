{
 "cells": [
  {
   "cell_type": "code",
   "execution_count": 1,
   "metadata": {},
   "outputs": [],
   "source": [
    "import pandas as pd\n",
    "import numpy as np\n",
    "import os\n",
    "from sklearn.neighbors import KNeighborsClassifier\n",
    "from sklearn.model_selection import train_test_split\n",
    "from sklearn import  metrics"
   ]
  },
  {
   "cell_type": "code",
   "execution_count": 2,
   "metadata": {},
   "outputs": [],
   "source": [
    "import warnings\n",
    "warnings.filterwarnings('ignore')"
   ]
  },
  {
   "cell_type": "code",
   "execution_count": 86,
   "metadata": {},
   "outputs": [],
   "source": [
    "os.chdir(r\"C:\\Users\\Archit\\Desktop\\Training\\Imarticus\\DSP\\DSP41\\Class15_16\")"
   ]
  },
  {
   "cell_type": "code",
   "execution_count": 87,
   "metadata": {},
   "outputs": [],
   "source": [
    "diabetes_data = pd.read_csv('diabetes.csv')"
   ]
  },
  {
   "cell_type": "code",
   "execution_count": 88,
   "metadata": {},
   "outputs": [
    {
     "data": {
      "text/html": [
       "<div>\n",
       "<style scoped>\n",
       "    .dataframe tbody tr th:only-of-type {\n",
       "        vertical-align: middle;\n",
       "    }\n",
       "\n",
       "    .dataframe tbody tr th {\n",
       "        vertical-align: top;\n",
       "    }\n",
       "\n",
       "    .dataframe thead th {\n",
       "        text-align: right;\n",
       "    }\n",
       "</style>\n",
       "<table border=\"1\" class=\"dataframe\">\n",
       "  <thead>\n",
       "    <tr style=\"text-align: right;\">\n",
       "      <th></th>\n",
       "      <th>Pregnancies</th>\n",
       "      <th>Glucose</th>\n",
       "      <th>BloodPressure</th>\n",
       "      <th>SkinThickness</th>\n",
       "      <th>Insulin</th>\n",
       "      <th>BMI</th>\n",
       "      <th>DiabetesPedigreeFunction</th>\n",
       "      <th>Age</th>\n",
       "      <th>Outcome</th>\n",
       "    </tr>\n",
       "  </thead>\n",
       "  <tbody>\n",
       "    <tr>\n",
       "      <th>0</th>\n",
       "      <td>6</td>\n",
       "      <td>148</td>\n",
       "      <td>72</td>\n",
       "      <td>35</td>\n",
       "      <td>0</td>\n",
       "      <td>33.6</td>\n",
       "      <td>0.627</td>\n",
       "      <td>50</td>\n",
       "      <td>1</td>\n",
       "    </tr>\n",
       "    <tr>\n",
       "      <th>1</th>\n",
       "      <td>1</td>\n",
       "      <td>85</td>\n",
       "      <td>66</td>\n",
       "      <td>29</td>\n",
       "      <td>0</td>\n",
       "      <td>26.6</td>\n",
       "      <td>0.351</td>\n",
       "      <td>31</td>\n",
       "      <td>0</td>\n",
       "    </tr>\n",
       "    <tr>\n",
       "      <th>2</th>\n",
       "      <td>8</td>\n",
       "      <td>183</td>\n",
       "      <td>64</td>\n",
       "      <td>0</td>\n",
       "      <td>0</td>\n",
       "      <td>23.3</td>\n",
       "      <td>0.672</td>\n",
       "      <td>32</td>\n",
       "      <td>1</td>\n",
       "    </tr>\n",
       "    <tr>\n",
       "      <th>3</th>\n",
       "      <td>1</td>\n",
       "      <td>89</td>\n",
       "      <td>66</td>\n",
       "      <td>23</td>\n",
       "      <td>94</td>\n",
       "      <td>28.1</td>\n",
       "      <td>0.167</td>\n",
       "      <td>21</td>\n",
       "      <td>0</td>\n",
       "    </tr>\n",
       "    <tr>\n",
       "      <th>4</th>\n",
       "      <td>0</td>\n",
       "      <td>137</td>\n",
       "      <td>40</td>\n",
       "      <td>35</td>\n",
       "      <td>168</td>\n",
       "      <td>43.1</td>\n",
       "      <td>2.288</td>\n",
       "      <td>33</td>\n",
       "      <td>1</td>\n",
       "    </tr>\n",
       "  </tbody>\n",
       "</table>\n",
       "</div>"
      ],
      "text/plain": [
       "   Pregnancies  Glucose  BloodPressure  SkinThickness  Insulin   BMI  \\\n",
       "0            6      148             72             35        0  33.6   \n",
       "1            1       85             66             29        0  26.6   \n",
       "2            8      183             64              0        0  23.3   \n",
       "3            1       89             66             23       94  28.1   \n",
       "4            0      137             40             35      168  43.1   \n",
       "\n",
       "   DiabetesPedigreeFunction  Age  Outcome  \n",
       "0                     0.627   50        1  \n",
       "1                     0.351   31        0  \n",
       "2                     0.672   32        1  \n",
       "3                     0.167   21        0  \n",
       "4                     2.288   33        1  "
      ]
     },
     "execution_count": 88,
     "metadata": {},
     "output_type": "execute_result"
    }
   ],
   "source": [
    "diabetes_data.head()"
   ]
  },
  {
   "cell_type": "code",
   "execution_count": 6,
   "metadata": {},
   "outputs": [
    {
     "name": "stdout",
     "output_type": "stream",
     "text": [
      "<class 'pandas.core.frame.DataFrame'>\n",
      "RangeIndex: 768 entries, 0 to 767\n",
      "Data columns (total 9 columns):\n",
      " #   Column                    Non-Null Count  Dtype  \n",
      "---  ------                    --------------  -----  \n",
      " 0   Pregnancies               768 non-null    int64  \n",
      " 1   Glucose                   768 non-null    int64  \n",
      " 2   BloodPressure             768 non-null    int64  \n",
      " 3   SkinThickness             768 non-null    int64  \n",
      " 4   Insulin                   768 non-null    int64  \n",
      " 5   BMI                       768 non-null    float64\n",
      " 6   DiabetesPedigreeFunction  768 non-null    float64\n",
      " 7   Age                       768 non-null    int64  \n",
      " 8   Outcome                   768 non-null    int64  \n",
      "dtypes: float64(2), int64(7)\n",
      "memory usage: 54.1 KB\n"
     ]
    }
   ],
   "source": [
    "diabetes_data.info(verbose=True)"
   ]
  },
  {
   "cell_type": "code",
   "execution_count": 89,
   "metadata": {},
   "outputs": [
    {
     "data": {
      "text/html": [
       "<div>\n",
       "<style scoped>\n",
       "    .dataframe tbody tr th:only-of-type {\n",
       "        vertical-align: middle;\n",
       "    }\n",
       "\n",
       "    .dataframe tbody tr th {\n",
       "        vertical-align: top;\n",
       "    }\n",
       "\n",
       "    .dataframe thead th {\n",
       "        text-align: right;\n",
       "    }\n",
       "</style>\n",
       "<table border=\"1\" class=\"dataframe\">\n",
       "  <thead>\n",
       "    <tr style=\"text-align: right;\">\n",
       "      <th></th>\n",
       "      <th>count</th>\n",
       "      <th>mean</th>\n",
       "      <th>std</th>\n",
       "      <th>min</th>\n",
       "      <th>25%</th>\n",
       "      <th>50%</th>\n",
       "      <th>75%</th>\n",
       "      <th>max</th>\n",
       "    </tr>\n",
       "  </thead>\n",
       "  <tbody>\n",
       "    <tr>\n",
       "      <th>Pregnancies</th>\n",
       "      <td>768.0</td>\n",
       "      <td>3.845052</td>\n",
       "      <td>3.369578</td>\n",
       "      <td>0.000</td>\n",
       "      <td>1.00000</td>\n",
       "      <td>3.0000</td>\n",
       "      <td>6.00000</td>\n",
       "      <td>17.00</td>\n",
       "    </tr>\n",
       "    <tr>\n",
       "      <th>Glucose</th>\n",
       "      <td>768.0</td>\n",
       "      <td>120.894531</td>\n",
       "      <td>31.972618</td>\n",
       "      <td>0.000</td>\n",
       "      <td>99.00000</td>\n",
       "      <td>117.0000</td>\n",
       "      <td>140.25000</td>\n",
       "      <td>199.00</td>\n",
       "    </tr>\n",
       "    <tr>\n",
       "      <th>BloodPressure</th>\n",
       "      <td>768.0</td>\n",
       "      <td>69.105469</td>\n",
       "      <td>19.355807</td>\n",
       "      <td>0.000</td>\n",
       "      <td>62.00000</td>\n",
       "      <td>72.0000</td>\n",
       "      <td>80.00000</td>\n",
       "      <td>122.00</td>\n",
       "    </tr>\n",
       "    <tr>\n",
       "      <th>SkinThickness</th>\n",
       "      <td>768.0</td>\n",
       "      <td>20.536458</td>\n",
       "      <td>15.952218</td>\n",
       "      <td>0.000</td>\n",
       "      <td>0.00000</td>\n",
       "      <td>23.0000</td>\n",
       "      <td>32.00000</td>\n",
       "      <td>99.00</td>\n",
       "    </tr>\n",
       "    <tr>\n",
       "      <th>Insulin</th>\n",
       "      <td>768.0</td>\n",
       "      <td>79.799479</td>\n",
       "      <td>115.244002</td>\n",
       "      <td>0.000</td>\n",
       "      <td>0.00000</td>\n",
       "      <td>30.5000</td>\n",
       "      <td>127.25000</td>\n",
       "      <td>846.00</td>\n",
       "    </tr>\n",
       "    <tr>\n",
       "      <th>BMI</th>\n",
       "      <td>768.0</td>\n",
       "      <td>31.992578</td>\n",
       "      <td>7.884160</td>\n",
       "      <td>0.000</td>\n",
       "      <td>27.30000</td>\n",
       "      <td>32.0000</td>\n",
       "      <td>36.60000</td>\n",
       "      <td>67.10</td>\n",
       "    </tr>\n",
       "    <tr>\n",
       "      <th>DiabetesPedigreeFunction</th>\n",
       "      <td>768.0</td>\n",
       "      <td>0.471876</td>\n",
       "      <td>0.331329</td>\n",
       "      <td>0.078</td>\n",
       "      <td>0.24375</td>\n",
       "      <td>0.3725</td>\n",
       "      <td>0.62625</td>\n",
       "      <td>2.42</td>\n",
       "    </tr>\n",
       "    <tr>\n",
       "      <th>Age</th>\n",
       "      <td>768.0</td>\n",
       "      <td>33.240885</td>\n",
       "      <td>11.760232</td>\n",
       "      <td>21.000</td>\n",
       "      <td>24.00000</td>\n",
       "      <td>29.0000</td>\n",
       "      <td>41.00000</td>\n",
       "      <td>81.00</td>\n",
       "    </tr>\n",
       "    <tr>\n",
       "      <th>Outcome</th>\n",
       "      <td>768.0</td>\n",
       "      <td>0.348958</td>\n",
       "      <td>0.476951</td>\n",
       "      <td>0.000</td>\n",
       "      <td>0.00000</td>\n",
       "      <td>0.0000</td>\n",
       "      <td>1.00000</td>\n",
       "      <td>1.00</td>\n",
       "    </tr>\n",
       "  </tbody>\n",
       "</table>\n",
       "</div>"
      ],
      "text/plain": [
       "                          count        mean         std     min       25%  \\\n",
       "Pregnancies               768.0    3.845052    3.369578   0.000   1.00000   \n",
       "Glucose                   768.0  120.894531   31.972618   0.000  99.00000   \n",
       "BloodPressure             768.0   69.105469   19.355807   0.000  62.00000   \n",
       "SkinThickness             768.0   20.536458   15.952218   0.000   0.00000   \n",
       "Insulin                   768.0   79.799479  115.244002   0.000   0.00000   \n",
       "BMI                       768.0   31.992578    7.884160   0.000  27.30000   \n",
       "DiabetesPedigreeFunction  768.0    0.471876    0.331329   0.078   0.24375   \n",
       "Age                       768.0   33.240885   11.760232  21.000  24.00000   \n",
       "Outcome                   768.0    0.348958    0.476951   0.000   0.00000   \n",
       "\n",
       "                               50%        75%     max  \n",
       "Pregnancies                 3.0000    6.00000   17.00  \n",
       "Glucose                   117.0000  140.25000  199.00  \n",
       "BloodPressure              72.0000   80.00000  122.00  \n",
       "SkinThickness              23.0000   32.00000   99.00  \n",
       "Insulin                    30.5000  127.25000  846.00  \n",
       "BMI                        32.0000   36.60000   67.10  \n",
       "DiabetesPedigreeFunction    0.3725    0.62625    2.42  \n",
       "Age                        29.0000   41.00000   81.00  \n",
       "Outcome                     0.0000    1.00000    1.00  "
      ]
     },
     "execution_count": 89,
     "metadata": {},
     "output_type": "execute_result"
    }
   ],
   "source": [
    "diabetes_data.describe().T"
   ]
  },
  {
   "cell_type": "code",
   "execution_count": 90,
   "metadata": {},
   "outputs": [
    {
     "name": "stdout",
     "output_type": "stream",
     "text": [
      "Pregnancies                 0\n",
      "Glucose                     0\n",
      "BloodPressure               0\n",
      "SkinThickness               0\n",
      "Insulin                     0\n",
      "BMI                         0\n",
      "DiabetesPedigreeFunction    0\n",
      "Age                         0\n",
      "Outcome                     0\n",
      "dtype: int64\n"
     ]
    }
   ],
   "source": [
    "print(diabetes_data.isnull().sum())"
   ]
  },
  {
   "cell_type": "code",
   "execution_count": 91,
   "metadata": {},
   "outputs": [
    {
     "name": "stdout",
     "output_type": "stream",
     "text": [
      "Pregnancies                   0\n",
      "Glucose                       5\n",
      "BloodPressure                35\n",
      "SkinThickness               227\n",
      "Insulin                     374\n",
      "BMI                          11\n",
      "DiabetesPedigreeFunction      0\n",
      "Age                           0\n",
      "Outcome                       0\n",
      "dtype: int64\n"
     ]
    }
   ],
   "source": [
    "diabetes_data_copy = diabetes_data.copy(deep = True)\n",
    "diabetes_data_copy[['Glucose','BloodPressure','SkinThickness','Insulin','BMI']] = diabetes_data_copy[['Glucose','BloodPressure','SkinThickness','Insulin','BMI']].replace(0,np.NaN)\n",
    "\n",
    "## showing the count of Nans\n",
    "print(diabetes_data_copy.isnull().sum())"
   ]
  },
  {
   "cell_type": "code",
   "execution_count": 10,
   "metadata": {},
   "outputs": [],
   "source": [
    "# p = diabetes_data.hist(figsize = (20,20))"
   ]
  },
  {
   "cell_type": "code",
   "execution_count": 92,
   "metadata": {},
   "outputs": [],
   "source": [
    "diabetes_data_copy['Glucose'].fillna(diabetes_data_copy['Glucose'].mean(), inplace = True)\n",
    "diabetes_data_copy['BloodPressure'].fillna(diabetes_data_copy['BloodPressure'].mean(), inplace = True)\n",
    "diabetes_data_copy['SkinThickness'].fillna(diabetes_data_copy['SkinThickness'].median(), inplace = True)\n",
    "diabetes_data_copy['Insulin'].fillna(diabetes_data_copy['Insulin'].median(), inplace = True)\n",
    "diabetes_data_copy['BMI'].fillna(diabetes_data_copy['BMI'].median(), inplace = True)"
   ]
  },
  {
   "cell_type": "code",
   "execution_count": 12,
   "metadata": {},
   "outputs": [],
   "source": [
    "# p = diabetes_data_copy.hist(figsize = (20,20))"
   ]
  },
  {
   "cell_type": "code",
   "execution_count": 93,
   "metadata": {},
   "outputs": [
    {
     "data": {
      "text/plain": [
       "Pregnancies                   int64\n",
       "Glucose                       int64\n",
       "BloodPressure                 int64\n",
       "SkinThickness                 int64\n",
       "Insulin                       int64\n",
       "BMI                         float64\n",
       "DiabetesPedigreeFunction    float64\n",
       "Age                           int64\n",
       "Outcome                       int64\n",
       "dtype: object"
      ]
     },
     "execution_count": 93,
     "metadata": {},
     "output_type": "execute_result"
    }
   ],
   "source": [
    "diabetes_data.dtypes"
   ]
  },
  {
   "cell_type": "code",
   "execution_count": 14,
   "metadata": {},
   "outputs": [],
   "source": [
    "# # sns.countplot(y=diabetes_data.dtypes ,data=diabetes_data)\n",
    "# plt.xlabel(\"count of each data type\")\n",
    "# plt.ylabel(\"data types\")\n",
    "# plt.show()"
   ]
  },
  {
   "cell_type": "code",
   "execution_count": 15,
   "metadata": {},
   "outputs": [],
   "source": [
    "#import missingno as msno\n",
    "#p=msno.bar(diabetes_data)"
   ]
  },
  {
   "cell_type": "code",
   "execution_count": 94,
   "metadata": {},
   "outputs": [
    {
     "data": {
      "text/plain": [
       "0    500\n",
       "1    268\n",
       "Name: Outcome, dtype: int64"
      ]
     },
     "execution_count": 94,
     "metadata": {},
     "output_type": "execute_result"
    }
   ],
   "source": [
    "diabetes_data_copy[\"Outcome\"].value_counts()"
   ]
  },
  {
   "cell_type": "code",
   "execution_count": 17,
   "metadata": {},
   "outputs": [
    {
     "data": {
      "text/plain": [
       "0.3489583333333333"
      ]
     },
     "execution_count": 17,
     "metadata": {},
     "output_type": "execute_result"
    }
   ],
   "source": [
    "268/(268+500)"
   ]
  },
  {
   "cell_type": "code",
   "execution_count": 95,
   "metadata": {},
   "outputs": [],
   "source": [
    "d=diabetes_data_copy.corr()\n",
    "d.to_excel(\"corr.xlsx\" )"
   ]
  },
  {
   "cell_type": "code",
   "execution_count": null,
   "metadata": {},
   "outputs": [],
   "source": []
  },
  {
   "cell_type": "code",
   "execution_count": 96,
   "metadata": {},
   "outputs": [],
   "source": [
    "X1 = diabetes_data.drop(\"Outcome\",axis = 1)\n",
    "y = diabetes_data_copy.Outcome"
   ]
  },
  {
   "cell_type": "code",
   "execution_count": 97,
   "metadata": {},
   "outputs": [],
   "source": [
    "from sklearn.preprocessing import StandardScaler  # (x-mu)/sigma\n",
    "sc_X = StandardScaler()\n"
   ]
  },
  {
   "cell_type": "code",
   "execution_count": 100,
   "metadata": {},
   "outputs": [
    {
     "data": {
      "text/html": [
       "<div>\n",
       "<style scoped>\n",
       "    .dataframe tbody tr th:only-of-type {\n",
       "        vertical-align: middle;\n",
       "    }\n",
       "\n",
       "    .dataframe tbody tr th {\n",
       "        vertical-align: top;\n",
       "    }\n",
       "\n",
       "    .dataframe thead th {\n",
       "        text-align: right;\n",
       "    }\n",
       "</style>\n",
       "<table border=\"1\" class=\"dataframe\">\n",
       "  <thead>\n",
       "    <tr style=\"text-align: right;\">\n",
       "      <th></th>\n",
       "      <th>Pregnancies</th>\n",
       "      <th>Glucose</th>\n",
       "      <th>BloodPressure</th>\n",
       "      <th>SkinThickness</th>\n",
       "      <th>Insulin</th>\n",
       "      <th>BMI</th>\n",
       "      <th>DiabetesPedigreeFunction</th>\n",
       "      <th>Age</th>\n",
       "    </tr>\n",
       "  </thead>\n",
       "  <tbody>\n",
       "    <tr>\n",
       "      <th>0</th>\n",
       "      <td>0.639947</td>\n",
       "      <td>0.848324</td>\n",
       "      <td>0.149641</td>\n",
       "      <td>0.907270</td>\n",
       "      <td>-0.692891</td>\n",
       "      <td>0.204013</td>\n",
       "      <td>0.468492</td>\n",
       "      <td>1.425995</td>\n",
       "    </tr>\n",
       "    <tr>\n",
       "      <th>1</th>\n",
       "      <td>-0.844885</td>\n",
       "      <td>-1.123396</td>\n",
       "      <td>-0.160546</td>\n",
       "      <td>0.530902</td>\n",
       "      <td>-0.692891</td>\n",
       "      <td>-0.684422</td>\n",
       "      <td>-0.365061</td>\n",
       "      <td>-0.190672</td>\n",
       "    </tr>\n",
       "    <tr>\n",
       "      <th>2</th>\n",
       "      <td>1.233880</td>\n",
       "      <td>1.943724</td>\n",
       "      <td>-0.263941</td>\n",
       "      <td>-1.288212</td>\n",
       "      <td>-0.692891</td>\n",
       "      <td>-1.103255</td>\n",
       "      <td>0.604397</td>\n",
       "      <td>-0.105584</td>\n",
       "    </tr>\n",
       "    <tr>\n",
       "      <th>3</th>\n",
       "      <td>-0.844885</td>\n",
       "      <td>-0.998208</td>\n",
       "      <td>-0.160546</td>\n",
       "      <td>0.154533</td>\n",
       "      <td>0.123302</td>\n",
       "      <td>-0.494043</td>\n",
       "      <td>-0.920763</td>\n",
       "      <td>-1.041549</td>\n",
       "    </tr>\n",
       "    <tr>\n",
       "      <th>4</th>\n",
       "      <td>-1.141852</td>\n",
       "      <td>0.504055</td>\n",
       "      <td>-1.504687</td>\n",
       "      <td>0.907270</td>\n",
       "      <td>0.765836</td>\n",
       "      <td>1.409746</td>\n",
       "      <td>5.484909</td>\n",
       "      <td>-0.020496</td>\n",
       "    </tr>\n",
       "    <tr>\n",
       "      <th>...</th>\n",
       "      <td>...</td>\n",
       "      <td>...</td>\n",
       "      <td>...</td>\n",
       "      <td>...</td>\n",
       "      <td>...</td>\n",
       "      <td>...</td>\n",
       "      <td>...</td>\n",
       "      <td>...</td>\n",
       "    </tr>\n",
       "    <tr>\n",
       "      <th>763</th>\n",
       "      <td>1.827813</td>\n",
       "      <td>-0.622642</td>\n",
       "      <td>0.356432</td>\n",
       "      <td>1.722735</td>\n",
       "      <td>0.870031</td>\n",
       "      <td>0.115169</td>\n",
       "      <td>-0.908682</td>\n",
       "      <td>2.532136</td>\n",
       "    </tr>\n",
       "    <tr>\n",
       "      <th>764</th>\n",
       "      <td>-0.547919</td>\n",
       "      <td>0.034598</td>\n",
       "      <td>0.046245</td>\n",
       "      <td>0.405445</td>\n",
       "      <td>-0.692891</td>\n",
       "      <td>0.610154</td>\n",
       "      <td>-0.398282</td>\n",
       "      <td>-0.531023</td>\n",
       "    </tr>\n",
       "    <tr>\n",
       "      <th>765</th>\n",
       "      <td>0.342981</td>\n",
       "      <td>0.003301</td>\n",
       "      <td>0.149641</td>\n",
       "      <td>0.154533</td>\n",
       "      <td>0.279594</td>\n",
       "      <td>-0.735190</td>\n",
       "      <td>-0.685193</td>\n",
       "      <td>-0.275760</td>\n",
       "    </tr>\n",
       "    <tr>\n",
       "      <th>766</th>\n",
       "      <td>-0.844885</td>\n",
       "      <td>0.159787</td>\n",
       "      <td>-0.470732</td>\n",
       "      <td>-1.288212</td>\n",
       "      <td>-0.692891</td>\n",
       "      <td>-0.240205</td>\n",
       "      <td>-0.371101</td>\n",
       "      <td>1.170732</td>\n",
       "    </tr>\n",
       "    <tr>\n",
       "      <th>767</th>\n",
       "      <td>-0.844885</td>\n",
       "      <td>-0.873019</td>\n",
       "      <td>0.046245</td>\n",
       "      <td>0.656358</td>\n",
       "      <td>-0.692891</td>\n",
       "      <td>-0.202129</td>\n",
       "      <td>-0.473785</td>\n",
       "      <td>-0.871374</td>\n",
       "    </tr>\n",
       "  </tbody>\n",
       "</table>\n",
       "<p>768 rows × 8 columns</p>\n",
       "</div>"
      ],
      "text/plain": [
       "     Pregnancies   Glucose  BloodPressure  SkinThickness   Insulin       BMI  \\\n",
       "0       0.639947  0.848324       0.149641       0.907270 -0.692891  0.204013   \n",
       "1      -0.844885 -1.123396      -0.160546       0.530902 -0.692891 -0.684422   \n",
       "2       1.233880  1.943724      -0.263941      -1.288212 -0.692891 -1.103255   \n",
       "3      -0.844885 -0.998208      -0.160546       0.154533  0.123302 -0.494043   \n",
       "4      -1.141852  0.504055      -1.504687       0.907270  0.765836  1.409746   \n",
       "..           ...       ...            ...            ...       ...       ...   \n",
       "763     1.827813 -0.622642       0.356432       1.722735  0.870031  0.115169   \n",
       "764    -0.547919  0.034598       0.046245       0.405445 -0.692891  0.610154   \n",
       "765     0.342981  0.003301       0.149641       0.154533  0.279594 -0.735190   \n",
       "766    -0.844885  0.159787      -0.470732      -1.288212 -0.692891 -0.240205   \n",
       "767    -0.844885 -0.873019       0.046245       0.656358 -0.692891 -0.202129   \n",
       "\n",
       "     DiabetesPedigreeFunction       Age  \n",
       "0                    0.468492  1.425995  \n",
       "1                   -0.365061 -0.190672  \n",
       "2                    0.604397 -0.105584  \n",
       "3                   -0.920763 -1.041549  \n",
       "4                    5.484909 -0.020496  \n",
       "..                        ...       ...  \n",
       "763                 -0.908682  2.532136  \n",
       "764                 -0.398282 -0.531023  \n",
       "765                 -0.685193 -0.275760  \n",
       "766                 -0.371101  1.170732  \n",
       "767                 -0.473785 -0.871374  \n",
       "\n",
       "[768 rows x 8 columns]"
      ]
     },
     "execution_count": 100,
     "metadata": {},
     "output_type": "execute_result"
    }
   ],
   "source": [
    "pd.DataFrame(sc_X.fit_transform(X1), \n",
    "             columns=['Pregnancies', 'Glucose', 'BloodPressure', 'SkinThickness', 'Insulin',\n",
    "       'BMI', 'DiabetesPedigreeFunction', 'Age'])"
   ]
  },
  {
   "cell_type": "code",
   "execution_count": 102,
   "metadata": {},
   "outputs": [],
   "source": [
    "X =  pd.DataFrame(sc_X.fit_transform(X1),\n",
    "        columns=['Pregnancies', 'Glucose', 'BloodPressure', 'SkinThickness', 'Insulin',\n",
    "       'BMI', 'DiabetesPedigreeFunction', 'Age'])"
   ]
  },
  {
   "cell_type": "code",
   "execution_count": 103,
   "metadata": {},
   "outputs": [
    {
     "data": {
      "text/html": [
       "<div>\n",
       "<style scoped>\n",
       "    .dataframe tbody tr th:only-of-type {\n",
       "        vertical-align: middle;\n",
       "    }\n",
       "\n",
       "    .dataframe tbody tr th {\n",
       "        vertical-align: top;\n",
       "    }\n",
       "\n",
       "    .dataframe thead th {\n",
       "        text-align: right;\n",
       "    }\n",
       "</style>\n",
       "<table border=\"1\" class=\"dataframe\">\n",
       "  <thead>\n",
       "    <tr style=\"text-align: right;\">\n",
       "      <th></th>\n",
       "      <th>Pregnancies</th>\n",
       "      <th>Glucose</th>\n",
       "      <th>BloodPressure</th>\n",
       "      <th>SkinThickness</th>\n",
       "      <th>Insulin</th>\n",
       "      <th>BMI</th>\n",
       "      <th>DiabetesPedigreeFunction</th>\n",
       "      <th>Age</th>\n",
       "    </tr>\n",
       "  </thead>\n",
       "  <tbody>\n",
       "    <tr>\n",
       "      <th>0</th>\n",
       "      <td>0.639947</td>\n",
       "      <td>0.848324</td>\n",
       "      <td>0.149641</td>\n",
       "      <td>0.907270</td>\n",
       "      <td>-0.692891</td>\n",
       "      <td>0.204013</td>\n",
       "      <td>0.468492</td>\n",
       "      <td>1.425995</td>\n",
       "    </tr>\n",
       "    <tr>\n",
       "      <th>1</th>\n",
       "      <td>-0.844885</td>\n",
       "      <td>-1.123396</td>\n",
       "      <td>-0.160546</td>\n",
       "      <td>0.530902</td>\n",
       "      <td>-0.692891</td>\n",
       "      <td>-0.684422</td>\n",
       "      <td>-0.365061</td>\n",
       "      <td>-0.190672</td>\n",
       "    </tr>\n",
       "    <tr>\n",
       "      <th>2</th>\n",
       "      <td>1.233880</td>\n",
       "      <td>1.943724</td>\n",
       "      <td>-0.263941</td>\n",
       "      <td>-1.288212</td>\n",
       "      <td>-0.692891</td>\n",
       "      <td>-1.103255</td>\n",
       "      <td>0.604397</td>\n",
       "      <td>-0.105584</td>\n",
       "    </tr>\n",
       "    <tr>\n",
       "      <th>3</th>\n",
       "      <td>-0.844885</td>\n",
       "      <td>-0.998208</td>\n",
       "      <td>-0.160546</td>\n",
       "      <td>0.154533</td>\n",
       "      <td>0.123302</td>\n",
       "      <td>-0.494043</td>\n",
       "      <td>-0.920763</td>\n",
       "      <td>-1.041549</td>\n",
       "    </tr>\n",
       "    <tr>\n",
       "      <th>4</th>\n",
       "      <td>-1.141852</td>\n",
       "      <td>0.504055</td>\n",
       "      <td>-1.504687</td>\n",
       "      <td>0.907270</td>\n",
       "      <td>0.765836</td>\n",
       "      <td>1.409746</td>\n",
       "      <td>5.484909</td>\n",
       "      <td>-0.020496</td>\n",
       "    </tr>\n",
       "  </tbody>\n",
       "</table>\n",
       "</div>"
      ],
      "text/plain": [
       "   Pregnancies   Glucose  BloodPressure  SkinThickness   Insulin       BMI  \\\n",
       "0     0.639947  0.848324       0.149641       0.907270 -0.692891  0.204013   \n",
       "1    -0.844885 -1.123396      -0.160546       0.530902 -0.692891 -0.684422   \n",
       "2     1.233880  1.943724      -0.263941      -1.288212 -0.692891 -1.103255   \n",
       "3    -0.844885 -0.998208      -0.160546       0.154533  0.123302 -0.494043   \n",
       "4    -1.141852  0.504055      -1.504687       0.907270  0.765836  1.409746   \n",
       "\n",
       "   DiabetesPedigreeFunction       Age  \n",
       "0                  0.468492  1.425995  \n",
       "1                 -0.365061 -0.190672  \n",
       "2                  0.604397 -0.105584  \n",
       "3                 -0.920763 -1.041549  \n",
       "4                  5.484909 -0.020496  "
      ]
     },
     "execution_count": 103,
     "metadata": {},
     "output_type": "execute_result"
    }
   ],
   "source": [
    "X.head()"
   ]
  },
  {
   "cell_type": "code",
   "execution_count": null,
   "metadata": {},
   "outputs": [],
   "source": []
  },
  {
   "cell_type": "code",
   "execution_count": 104,
   "metadata": {},
   "outputs": [],
   "source": [
    "#importing train_test_split\n",
    "from sklearn.model_selection import train_test_split\n",
    "X_train,X_test,y_train,y_test = train_test_split(X,y,test_size=1/3,random_state=42, stratify=y)"
   ]
  },
  {
   "cell_type": "code",
   "execution_count": 50,
   "metadata": {},
   "outputs": [],
   "source": []
  },
  {
   "cell_type": "code",
   "execution_count": 109,
   "metadata": {},
   "outputs": [
    {
     "name": "stdout",
     "output_type": "stream",
     "text": [
      "Score on Train data 0.783203125\n",
      "Score on Test data 0.76953125\n"
     ]
    }
   ],
   "source": [
    "knn = KNeighborsClassifier(n_neighbors=11)  # By default  n_neighbors=5\n",
    "knn.fit(X_train,y_train)\n",
    "print(\"Score on Train data\",knn.score(X_train,y_train))\n",
    "print(\"Score on Test data\",knn.score(X_test,y_test))"
   ]
  },
  {
   "cell_type": "code",
   "execution_count": 112,
   "metadata": {},
   "outputs": [],
   "source": [
    "# help(KNeighborsClassifier)"
   ]
  },
  {
   "cell_type": "code",
   "execution_count": 113,
   "metadata": {},
   "outputs": [],
   "source": [
    "test_scores = []\n",
    "train_scores = []\n",
    "for i in range(1,50):\n",
    "\n",
    "    knn = KNeighborsClassifier(n_neighbors=i)\n",
    "    knn.fit(X_train,y_train)\n",
    "    \n",
    "    train_scores.append(knn.score(X_train,y_train))\n",
    "    test_scores.append(knn.score(X_test,y_test))"
   ]
  },
  {
   "cell_type": "code",
   "execution_count": 114,
   "metadata": {},
   "outputs": [
    {
     "data": {
      "text/plain": [
       "[1.0,\n",
       " 0.837890625,\n",
       " 0.857421875,\n",
       " 0.8046875,\n",
       " 0.82421875,\n",
       " 0.791015625,\n",
       " 0.80859375,\n",
       " 0.791015625,\n",
       " 0.802734375,\n",
       " 0.77734375,\n",
       " 0.783203125,\n",
       " 0.783203125,\n",
       " 0.7890625,\n",
       " 0.779296875,\n",
       " 0.78125,\n",
       " 0.779296875,\n",
       " 0.779296875,\n",
       " 0.767578125,\n",
       " 0.791015625,\n",
       " 0.775390625,\n",
       " 0.791015625,\n",
       " 0.775390625,\n",
       " 0.77734375,\n",
       " 0.759765625,\n",
       " 0.771484375,\n",
       " 0.771484375,\n",
       " 0.787109375,\n",
       " 0.775390625,\n",
       " 0.78515625,\n",
       " 0.779296875,\n",
       " 0.78125,\n",
       " 0.779296875,\n",
       " 0.787109375,\n",
       " 0.77734375,\n",
       " 0.787109375,\n",
       " 0.77734375,\n",
       " 0.779296875,\n",
       " 0.7734375,\n",
       " 0.7734375,\n",
       " 0.76953125,\n",
       " 0.765625,\n",
       " 0.765625,\n",
       " 0.76953125,\n",
       " 0.7734375,\n",
       " 0.77734375,\n",
       " 0.7734375,\n",
       " 0.7734375,\n",
       " 0.775390625,\n",
       " 0.775390625]"
      ]
     },
     "execution_count": 114,
     "metadata": {},
     "output_type": "execute_result"
    }
   ],
   "source": [
    "train_scores"
   ]
  },
  {
   "cell_type": "code",
   "execution_count": 115,
   "metadata": {},
   "outputs": [
    {
     "data": {
      "text/plain": [
       "[0.71875,\n",
       " 0.6953125,\n",
       " 0.6875,\n",
       " 0.71875,\n",
       " 0.73046875,\n",
       " 0.734375,\n",
       " 0.76171875,\n",
       " 0.75390625,\n",
       " 0.765625,\n",
       " 0.765625,\n",
       " 0.76953125,\n",
       " 0.75390625,\n",
       " 0.7578125,\n",
       " 0.734375,\n",
       " 0.76171875,\n",
       " 0.734375,\n",
       " 0.74609375,\n",
       " 0.73046875,\n",
       " 0.73828125,\n",
       " 0.73828125,\n",
       " 0.73828125,\n",
       " 0.73828125,\n",
       " 0.73828125,\n",
       " 0.734375,\n",
       " 0.73828125,\n",
       " 0.7265625,\n",
       " 0.72265625,\n",
       " 0.72265625,\n",
       " 0.71875,\n",
       " 0.73828125,\n",
       " 0.7421875,\n",
       " 0.74609375,\n",
       " 0.73828125,\n",
       " 0.74609375,\n",
       " 0.73828125,\n",
       " 0.734375,\n",
       " 0.73046875,\n",
       " 0.74609375,\n",
       " 0.734375,\n",
       " 0.73828125,\n",
       " 0.73828125,\n",
       " 0.734375,\n",
       " 0.734375,\n",
       " 0.73828125,\n",
       " 0.7421875,\n",
       " 0.7421875,\n",
       " 0.73828125,\n",
       " 0.7421875,\n",
       " 0.7421875]"
      ]
     },
     "execution_count": 115,
     "metadata": {},
     "output_type": "execute_result"
    }
   ],
   "source": [
    "test_scores"
   ]
  },
  {
   "cell_type": "code",
   "execution_count": 116,
   "metadata": {},
   "outputs": [
    {
     "data": {
      "text/plain": [
       "[<matplotlib.lines.Line2D at 0x1a3489387c0>]"
      ]
     },
     "execution_count": 116,
     "metadata": {},
     "output_type": "execute_result"
    },
    {
     "data": {
      "image/png": "[encoded data removed]",
      "text/plain": [
       "<Figure size 432x288 with 1 Axes>"
      ]
     },
     "metadata": {
      "needs_background": "light"
     },
     "output_type": "display_data"
    }
   ],
   "source": [
    "import matplotlib.pyplot as plt\n",
    "\n",
    "plt.plot(range(1,50), train_scores, color=\"r\")\n",
    "plt.plot(range(1,50), test_scores)"
   ]
  },
  {
   "cell_type": "code",
   "execution_count": 117,
   "metadata": {},
   "outputs": [
    {
     "name": "stdout",
     "output_type": "stream",
     "text": [
      "Score on Train data 0.783203125\n",
      "Score on Test data 0.76953125\n"
     ]
    }
   ],
   "source": [
    "#The best result is captured at k = 11 hence 11 is used for the final model from above\n",
    "#Setup a knn classifier with k neighbors\n",
    "knn11 = KNeighborsClassifier(11)\n",
    "knn11.fit(X_train,y_train)\n",
    "print(\"Score on Train data\",knn11.score(X_train,y_train))\n",
    "print(\"Score on Test data\",knn11.score(X_test,y_test))"
   ]
  },
  {
   "cell_type": "code",
   "execution_count": 118,
   "metadata": {},
   "outputs": [],
   "source": [
    "from sklearn import metrics"
   ]
  },
  {
   "cell_type": "code",
   "execution_count": 119,
   "metadata": {},
   "outputs": [],
   "source": [
    "Pred_train=knn11.predict(X_train)"
   ]
  },
  {
   "cell_type": "code",
   "execution_count": 120,
   "metadata": {},
   "outputs": [
    {
     "name": "stdout",
     "output_type": "stream",
     "text": [
      "              precision    recall  f1-score   support\n",
      "\n",
      "           0       0.79      0.90      0.84       333\n",
      "           1       0.75      0.56      0.65       179\n",
      "\n",
      "    accuracy                           0.78       512\n",
      "   macro avg       0.77      0.73      0.74       512\n",
      "weighted avg       0.78      0.78      0.77       512\n",
      "\n"
     ]
    }
   ],
   "source": [
    "print(metrics.classification_report(y_train, Pred_train))"
   ]
  },
  {
   "cell_type": "code",
   "execution_count": 121,
   "metadata": {},
   "outputs": [
    {
     "data": {
      "text/plain": [
       "array([[300,  33],\n",
       "       [ 78, 101]], dtype=int64)"
      ]
     },
     "execution_count": 121,
     "metadata": {},
     "output_type": "execute_result"
    }
   ],
   "source": [
    "metrics.confusion_matrix(y_train, Pred_train)"
   ]
  },
  {
   "cell_type": "code",
   "execution_count": 122,
   "metadata": {},
   "outputs": [],
   "source": [
    "Pred_test=knn11.predict(X_test)"
   ]
  },
  {
   "cell_type": "code",
   "execution_count": 123,
   "metadata": {},
   "outputs": [
    {
     "name": "stdout",
     "output_type": "stream",
     "text": [
      "              precision    recall  f1-score   support\n",
      "\n",
      "           0       0.79      0.88      0.83       167\n",
      "           1       0.71      0.56      0.63        89\n",
      "\n",
      "    accuracy                           0.77       256\n",
      "   macro avg       0.75      0.72      0.73       256\n",
      "weighted avg       0.76      0.77      0.76       256\n",
      "\n"
     ]
    }
   ],
   "source": [
    "print(metrics.classification_report(y_test, Pred_test))"
   ]
  },
  {
   "cell_type": "markdown",
   "metadata": {},
   "source": [
    "### Working on Train Data "
   ]
  },
  {
   "cell_type": "code",
   "execution_count": 125,
   "metadata": {},
   "outputs": [
    {
     "data": {
      "text/plain": [
       "array([0.36363636, 0.54545455, 0.27272727, 0.        , 0.54545455,\n",
       "       0.09090909, 0.27272727, 0.27272727, 0.72727273, 0.09090909,\n",
       "       0.45454545, 0.36363636, 0.27272727, 0.36363636, 0.18181818,\n",
       "       0.        , 0.54545455, 0.09090909, 0.        , 0.54545455,\n",
       "       0.27272727, 0.45454545, 0.        , 0.81818182, 0.63636364,\n",
       "       0.18181818, 0.45454545, 0.72727273, 0.72727273, 0.09090909,\n",
       "       0.        , 0.63636364, 0.18181818, 0.09090909, 0.09090909,\n",
       "       0.09090909, 0.63636364, 0.09090909, 0.72727273, 0.36363636,\n",
       "       0.72727273, 1.        , 0.        , 0.45454545, 0.72727273,\n",
       "       0.18181818, 0.90909091, 0.09090909, 0.72727273, 0.18181818,\n",
       "       0.36363636, 0.54545455, 0.36363636, 0.18181818, 0.        ,\n",
       "       0.36363636, 0.09090909, 0.45454545, 0.36363636, 0.18181818,\n",
       "       0.18181818, 0.        , 0.09090909, 0.72727273, 0.63636364,\n",
       "       0.27272727, 0.72727273, 0.09090909, 0.09090909, 0.        ,\n",
       "       0.54545455, 0.81818182, 0.        , 0.81818182, 0.81818182,\n",
       "       0.36363636, 0.27272727, 0.09090909, 0.27272727, 0.        ,\n",
       "       0.45454545, 0.90909091, 0.27272727, 0.36363636, 0.        ,\n",
       "       0.27272727, 0.63636364, 0.54545455, 0.09090909, 0.18181818,\n",
       "       0.72727273, 0.        , 0.45454545, 0.        , 0.36363636,\n",
       "       0.        , 0.09090909, 0.        , 0.36363636, 0.18181818,\n",
       "       0.54545455, 0.81818182, 0.18181818, 0.63636364, 0.27272727,\n",
       "       0.81818182, 0.81818182, 0.54545455, 0.36363636, 0.        ,\n",
       "       0.09090909, 0.        , 0.90909091, 0.54545455, 0.09090909,\n",
       "       0.        , 0.18181818, 0.45454545, 0.90909091, 0.09090909,\n",
       "       0.45454545, 0.18181818, 0.09090909, 0.27272727, 0.36363636,\n",
       "       0.72727273, 0.63636364, 0.45454545, 0.18181818, 0.45454545,\n",
       "       0.        , 0.45454545, 0.45454545, 0.36363636, 0.        ,\n",
       "       0.09090909, 0.        , 0.        , 0.18181818, 0.63636364,\n",
       "       0.18181818, 0.63636364, 0.45454545, 0.09090909, 0.81818182,\n",
       "       0.63636364, 0.63636364, 0.63636364, 0.45454545, 0.09090909,\n",
       "       0.09090909, 0.27272727, 0.27272727, 0.18181818, 0.09090909,\n",
       "       0.36363636, 0.18181818, 0.        , 0.        , 0.        ,\n",
       "       0.18181818, 0.72727273, 0.45454545, 0.45454545, 0.63636364,\n",
       "       0.27272727, 0.18181818, 0.36363636, 0.        , 0.63636364,\n",
       "       0.09090909, 0.54545455, 0.09090909, 0.63636364, 0.90909091,\n",
       "       0.18181818, 0.27272727, 0.45454545, 0.        , 0.        ,\n",
       "       0.54545455, 0.45454545, 0.27272727, 0.54545455, 0.36363636,\n",
       "       0.09090909, 0.45454545, 0.36363636, 0.27272727, 0.27272727,\n",
       "       0.81818182, 0.54545455, 0.36363636, 0.18181818, 0.09090909,\n",
       "       0.18181818, 0.45454545, 0.72727273, 0.09090909, 0.09090909,\n",
       "       0.18181818, 0.27272727, 0.18181818, 0.        , 0.81818182,\n",
       "       0.63636364, 0.09090909, 0.36363636, 0.27272727, 0.63636364,\n",
       "       0.27272727, 0.54545455, 0.54545455, 0.54545455, 0.54545455,\n",
       "       0.54545455, 0.        , 0.09090909, 0.72727273, 0.27272727,\n",
       "       0.18181818, 0.45454545, 0.27272727, 0.09090909, 0.54545455,\n",
       "       0.18181818, 0.        , 0.63636364, 0.27272727, 0.09090909,\n",
       "       0.        , 0.        , 0.45454545, 0.45454545, 0.27272727,\n",
       "       0.09090909, 0.54545455, 0.09090909, 0.81818182, 0.63636364,\n",
       "       0.09090909, 0.36363636, 0.        , 0.        , 0.27272727,\n",
       "       0.        , 0.09090909, 0.72727273, 0.63636364, 0.09090909,\n",
       "       0.18181818, 0.        , 0.        , 0.27272727, 0.09090909,\n",
       "       0.        , 0.09090909, 0.54545455, 0.18181818, 0.09090909,\n",
       "       0.09090909, 0.27272727, 0.72727273, 0.        , 0.09090909,\n",
       "       0.        , 0.36363636, 0.36363636, 0.18181818, 0.90909091,\n",
       "       0.09090909, 0.09090909, 0.27272727, 0.36363636, 0.18181818,\n",
       "       0.90909091, 0.18181818, 0.27272727, 0.27272727, 0.18181818,\n",
       "       0.18181818, 0.54545455, 0.        , 0.        , 0.36363636,\n",
       "       0.45454545, 0.81818182, 0.09090909, 0.        , 0.45454545,\n",
       "       0.18181818, 0.09090909, 0.18181818, 0.63636364, 0.18181818,\n",
       "       0.18181818, 0.36363636, 0.18181818, 0.45454545, 0.        ,\n",
       "       0.        , 0.81818182, 0.        , 0.09090909, 0.63636364,\n",
       "       0.09090909, 0.81818182, 0.72727273, 0.18181818, 0.18181818,\n",
       "       0.18181818, 0.27272727, 0.63636364, 0.        , 0.27272727,\n",
       "       0.72727273, 0.81818182, 0.45454545, 0.54545455, 0.        ,\n",
       "       0.09090909, 0.45454545, 0.        , 0.        , 0.        ,\n",
       "       0.09090909, 0.63636364, 0.18181818, 0.27272727, 0.18181818,\n",
       "       0.63636364, 0.        , 0.36363636, 0.36363636, 0.36363636,\n",
       "       0.09090909, 0.81818182, 0.27272727, 0.09090909, 0.45454545,\n",
       "       0.18181818, 0.09090909, 0.09090909, 0.54545455, 0.27272727,\n",
       "       0.18181818, 0.09090909, 0.18181818, 0.36363636, 0.09090909,\n",
       "       0.81818182, 0.36363636, 0.45454545, 0.09090909, 0.27272727,\n",
       "       0.27272727, 0.63636364, 0.72727273, 0.09090909, 0.54545455,\n",
       "       0.54545455, 0.27272727, 0.09090909, 0.27272727, 0.36363636,\n",
       "       0.72727273, 0.        , 0.36363636, 0.09090909, 0.63636364,\n",
       "       0.90909091, 0.54545455, 0.18181818, 0.45454545, 0.63636364,\n",
       "       0.        , 0.36363636, 0.45454545, 0.18181818, 0.        ,\n",
       "       0.18181818, 0.27272727, 0.09090909, 0.27272727, 0.09090909,\n",
       "       0.72727273, 0.54545455, 0.09090909, 0.36363636, 0.        ,\n",
       "       0.        , 0.45454545, 0.36363636, 0.        , 0.        ,\n",
       "       0.27272727, 0.54545455, 0.27272727, 0.27272727, 0.09090909,\n",
       "       0.45454545, 0.18181818, 0.09090909, 0.09090909, 0.27272727,\n",
       "       0.09090909, 0.09090909, 0.54545455, 0.36363636, 0.27272727,\n",
       "       0.81818182, 0.63636364, 0.27272727, 0.63636364, 0.        ,\n",
       "       0.27272727, 0.36363636, 0.90909091, 0.36363636, 0.09090909,\n",
       "       0.45454545, 0.72727273, 0.54545455, 0.81818182, 0.36363636,\n",
       "       0.        , 0.27272727, 0.        , 0.54545455, 0.        ,\n",
       "       0.18181818, 0.72727273, 0.18181818, 0.27272727, 0.27272727,\n",
       "       0.        , 0.45454545, 0.09090909, 0.36363636, 0.63636364,\n",
       "       0.36363636, 0.        , 0.36363636, 0.36363636, 0.27272727,\n",
       "       0.18181818, 0.09090909, 0.45454545, 0.18181818, 0.45454545,\n",
       "       0.        , 0.54545455, 0.45454545, 0.45454545, 0.54545455,\n",
       "       0.        , 0.54545455, 0.        , 0.36363636, 0.18181818,\n",
       "       0.09090909, 0.18181818, 0.        , 0.90909091, 0.63636364,\n",
       "       0.72727273, 0.54545455, 0.36363636, 0.90909091, 0.90909091,\n",
       "       0.        , 0.09090909, 0.27272727, 0.18181818, 0.54545455,\n",
       "       0.45454545, 0.63636364, 0.27272727, 0.27272727, 0.        ,\n",
       "       0.54545455, 0.81818182, 0.36363636, 0.18181818, 0.27272727,\n",
       "       0.18181818, 0.18181818, 0.27272727, 0.        , 0.18181818,\n",
       "       0.18181818, 0.        , 0.        , 0.36363636, 0.09090909,\n",
       "       0.09090909, 0.09090909, 0.54545455, 0.36363636, 0.09090909,\n",
       "       0.36363636, 0.72727273, 0.18181818, 0.81818182, 0.        ,\n",
       "       0.27272727, 0.45454545, 0.09090909, 0.        , 0.54545455,\n",
       "       0.90909091, 0.45454545])"
      ]
     },
     "execution_count": 125,
     "metadata": {},
     "output_type": "execute_result"
    }
   ],
   "source": [
    "knn11.predict_proba(X_train)[:,1]"
   ]
  },
  {
   "cell_type": "code",
   "execution_count": 126,
   "metadata": {},
   "outputs": [],
   "source": [
    "def profile_decile(X,y, trained_model):\n",
    "    X_1=X.copy()\n",
    "    y_1=y.copy()\n",
    "    y_pred=trained_model.predict(X_1)\n",
    "    X_1[\"Prob_event\"]=trained_model.predict_proba(X_1)[:,1]\n",
    "    X_1[\"Y_actual\"]=y_1\n",
    "    X_1[\"Y_pred\"]=y_pred\n",
    "    X_1[\"Rank\"]=pd.qcut(X_1[\"Prob_event\"],10, labels=np.arange(0,10,1))\n",
    "    X_1[\"numb\"]=10\n",
    "    X_1[\"Decile\"]=X_1[\"numb\"]-X_1[\"Rank\"].astype(\"int\")\n",
    "    profile=pd.DataFrame(X_1.groupby(\"Decile\")\\\n",
    "                        .apply(lambda x: pd.Series({\n",
    "        \"min_score\": x[\"Prob_event\"].min(),\n",
    "        \"max_score\": x[\"Prob_event\"].max(),\n",
    "        \"Bad\":x[\"Y_actual\"].sum(),\n",
    "        \"Good\":x[\"Y_actual\"].count()-x[\"Y_actual\"].sum(),\n",
    "        \"Total\":x[\"Y_actual\"].count() })))\n",
    "    return profile"
   ]
  },
  {
   "cell_type": "code",
   "execution_count": 128,
   "metadata": {},
   "outputs": [],
   "source": [
    "# profile_decile(X_train,y_train, knn11)"
   ]
  },
  {
   "cell_type": "code",
   "execution_count": 129,
   "metadata": {},
   "outputs": [],
   "source": [
    "X_train1=X_train.copy()"
   ]
  },
  {
   "cell_type": "code",
   "execution_count": 130,
   "metadata": {},
   "outputs": [],
   "source": [
    "X_train1[\"y_actual\"]=y_train\n",
    "X_train1[\"y_pred\"]=Pred_train\n",
    "X_train1[\"Prob_1\"]=knn11.predict_proba(X_train)[:,1]"
   ]
  },
  {
   "cell_type": "code",
   "execution_count": 131,
   "metadata": {},
   "outputs": [
    {
     "data": {
      "text/html": [
       "<div>\n",
       "<style scoped>\n",
       "    .dataframe tbody tr th:only-of-type {\n",
       "        vertical-align: middle;\n",
       "    }\n",
       "\n",
       "    .dataframe tbody tr th {\n",
       "        vertical-align: top;\n",
       "    }\n",
       "\n",
       "    .dataframe thead th {\n",
       "        text-align: right;\n",
       "    }\n",
       "</style>\n",
       "<table border=\"1\" class=\"dataframe\">\n",
       "  <thead>\n",
       "    <tr style=\"text-align: right;\">\n",
       "      <th></th>\n",
       "      <th>Pregnancies</th>\n",
       "      <th>Glucose</th>\n",
       "      <th>BloodPressure</th>\n",
       "      <th>SkinThickness</th>\n",
       "      <th>Insulin</th>\n",
       "      <th>BMI</th>\n",
       "      <th>DiabetesPedigreeFunction</th>\n",
       "      <th>Age</th>\n",
       "      <th>y_actual</th>\n",
       "      <th>y_pred</th>\n",
       "      <th>Prob_1</th>\n",
       "    </tr>\n",
       "  </thead>\n",
       "  <tbody>\n",
       "    <tr>\n",
       "      <th>657</th>\n",
       "      <td>-0.844885</td>\n",
       "      <td>-0.027996</td>\n",
       "      <td>0.563223</td>\n",
       "      <td>1.722735</td>\n",
       "      <td>1.043689</td>\n",
       "      <td>0.876685</td>\n",
       "      <td>2.084255</td>\n",
       "      <td>0.660206</td>\n",
       "      <td>0</td>\n",
       "      <td>0</td>\n",
       "      <td>0.363636</td>\n",
       "    </tr>\n",
       "    <tr>\n",
       "      <th>462</th>\n",
       "      <td>1.233880</td>\n",
       "      <td>-1.467665</td>\n",
       "      <td>0.046245</td>\n",
       "      <td>1.220910</td>\n",
       "      <td>-0.267429</td>\n",
       "      <td>0.419775</td>\n",
       "      <td>0.704061</td>\n",
       "      <td>0.490030</td>\n",
       "      <td>0</td>\n",
       "      <td>1</td>\n",
       "      <td>0.545455</td>\n",
       "    </tr>\n",
       "    <tr>\n",
       "      <th>171</th>\n",
       "      <td>0.639947</td>\n",
       "      <td>0.410164</td>\n",
       "      <td>0.046245</td>\n",
       "      <td>0.154533</td>\n",
       "      <td>0.435886</td>\n",
       "      <td>0.432467</td>\n",
       "      <td>0.211782</td>\n",
       "      <td>-0.360847</td>\n",
       "      <td>1</td>\n",
       "      <td>0</td>\n",
       "      <td>0.272727</td>\n",
       "    </tr>\n",
       "    <tr>\n",
       "      <th>210</th>\n",
       "      <td>-0.547919</td>\n",
       "      <td>-1.248585</td>\n",
       "      <td>-0.470732</td>\n",
       "      <td>0.091805</td>\n",
       "      <td>-0.692891</td>\n",
       "      <td>-0.544811</td>\n",
       "      <td>-0.549288</td>\n",
       "      <td>-0.701198</td>\n",
       "      <td>0</td>\n",
       "      <td>0</td>\n",
       "      <td>0.000000</td>\n",
       "    </tr>\n",
       "    <tr>\n",
       "      <th>147</th>\n",
       "      <td>-0.547919</td>\n",
       "      <td>-0.466156</td>\n",
       "      <td>-0.263941</td>\n",
       "      <td>0.907270</td>\n",
       "      <td>0.340374</td>\n",
       "      <td>-0.189437</td>\n",
       "      <td>2.803044</td>\n",
       "      <td>0.064591</td>\n",
       "      <td>0</td>\n",
       "      <td>1</td>\n",
       "      <td>0.545455</td>\n",
       "    </tr>\n",
       "    <tr>\n",
       "      <th>...</th>\n",
       "      <td>...</td>\n",
       "      <td>...</td>\n",
       "      <td>...</td>\n",
       "      <td>...</td>\n",
       "      <td>...</td>\n",
       "      <td>...</td>\n",
       "      <td>...</td>\n",
       "      <td>...</td>\n",
       "      <td>...</td>\n",
       "      <td>...</td>\n",
       "      <td>...</td>\n",
       "    </tr>\n",
       "    <tr>\n",
       "      <th>113</th>\n",
       "      <td>0.046014</td>\n",
       "      <td>-1.405071</td>\n",
       "      <td>-0.367337</td>\n",
       "      <td>-1.288212</td>\n",
       "      <td>-0.692891</td>\n",
       "      <td>0.254780</td>\n",
       "      <td>-0.244256</td>\n",
       "      <td>-0.701198</td>\n",
       "      <td>0</td>\n",
       "      <td>0</td>\n",
       "      <td>0.090909</td>\n",
       "    </tr>\n",
       "    <tr>\n",
       "      <th>556</th>\n",
       "      <td>-0.844885</td>\n",
       "      <td>-0.747831</td>\n",
       "      <td>0.046245</td>\n",
       "      <td>1.220910</td>\n",
       "      <td>-0.692891</td>\n",
       "      <td>0.775149</td>\n",
       "      <td>-0.766737</td>\n",
       "      <td>-0.275760</td>\n",
       "      <td>0</td>\n",
       "      <td>0</td>\n",
       "      <td>0.000000</td>\n",
       "    </tr>\n",
       "    <tr>\n",
       "      <th>254</th>\n",
       "      <td>2.421746</td>\n",
       "      <td>-0.904316</td>\n",
       "      <td>-0.367337</td>\n",
       "      <td>-0.849116</td>\n",
       "      <td>1.547297</td>\n",
       "      <td>-0.557503</td>\n",
       "      <td>1.371507</td>\n",
       "      <td>0.915469</td>\n",
       "      <td>1</td>\n",
       "      <td>1</td>\n",
       "      <td>0.545455</td>\n",
       "    </tr>\n",
       "    <tr>\n",
       "      <th>647</th>\n",
       "      <td>-1.141852</td>\n",
       "      <td>1.818535</td>\n",
       "      <td>-0.987710</td>\n",
       "      <td>0.969998</td>\n",
       "      <td>0.687690</td>\n",
       "      <td>0.737074</td>\n",
       "      <td>-0.050968</td>\n",
       "      <td>-0.956462</td>\n",
       "      <td>1</td>\n",
       "      <td>1</td>\n",
       "      <td>0.909091</td>\n",
       "    </tr>\n",
       "    <tr>\n",
       "      <th>107</th>\n",
       "      <td>0.046014</td>\n",
       "      <td>0.723135</td>\n",
       "      <td>-0.574128</td>\n",
       "      <td>0.468173</td>\n",
       "      <td>0.522715</td>\n",
       "      <td>-0.316356</td>\n",
       "      <td>-0.558348</td>\n",
       "      <td>0.319855</td>\n",
       "      <td>0</td>\n",
       "      <td>0</td>\n",
       "      <td>0.454545</td>\n",
       "    </tr>\n",
       "  </tbody>\n",
       "</table>\n",
       "<p>512 rows × 11 columns</p>\n",
       "</div>"
      ],
      "text/plain": [
       "     Pregnancies   Glucose  BloodPressure  SkinThickness   Insulin       BMI  \\\n",
       "657    -0.844885 -0.027996       0.563223       1.722735  1.043689  0.876685   \n",
       "462     1.233880 -1.467665       0.046245       1.220910 -0.267429  0.419775   \n",
       "171     0.639947  0.410164       0.046245       0.154533  0.435886  0.432467   \n",
       "210    -0.547919 -1.248585      -0.470732       0.091805 -0.692891 -0.544811   \n",
       "147    -0.547919 -0.466156      -0.263941       0.907270  0.340374 -0.189437   \n",
       "..           ...       ...            ...            ...       ...       ...   \n",
       "113     0.046014 -1.405071      -0.367337      -1.288212 -0.692891  0.254780   \n",
       "556    -0.844885 -0.747831       0.046245       1.220910 -0.692891  0.775149   \n",
       "254     2.421746 -0.904316      -0.367337      -0.849116  1.547297 -0.557503   \n",
       "647    -1.141852  1.818535      -0.987710       0.969998  0.687690  0.737074   \n",
       "107     0.046014  0.723135      -0.574128       0.468173  0.522715 -0.316356   \n",
       "\n",
       "     DiabetesPedigreeFunction       Age  y_actual  y_pred    Prob_1  \n",
       "657                  2.084255  0.660206         0       0  0.363636  \n",
       "462                  0.704061  0.490030         0       1  0.545455  \n",
       "171                  0.211782 -0.360847         1       0  0.272727  \n",
       "210                 -0.549288 -0.701198         0       0  0.000000  \n",
       "147                  2.803044  0.064591         0       1  0.545455  \n",
       "..                        ...       ...       ...     ...       ...  \n",
       "113                 -0.244256 -0.701198         0       0  0.090909  \n",
       "556                 -0.766737 -0.275760         0       0  0.000000  \n",
       "254                  1.371507  0.915469         1       1  0.545455  \n",
       "647                 -0.050968 -0.956462         1       1  0.909091  \n",
       "107                 -0.558348  0.319855         0       0  0.454545  \n",
       "\n",
       "[512 rows x 11 columns]"
      ]
     },
     "execution_count": 131,
     "metadata": {},
     "output_type": "execute_result"
    }
   ],
   "source": [
    "X_train1"
   ]
  },
  {
   "cell_type": "code",
   "execution_count": 78,
   "metadata": {},
   "outputs": [],
   "source": [
    "X_train1.to_excel(\"Train.xlsx\")"
   ]
  },
  {
   "cell_type": "code",
   "execution_count": 132,
   "metadata": {},
   "outputs": [],
   "source": [
    "X_train1[\"New_Pred\"]=np.where(X_train1[\"Prob_1\"]>=0.363636363636364, 1,0)"
   ]
  },
  {
   "cell_type": "code",
   "execution_count": 133,
   "metadata": {},
   "outputs": [
    {
     "name": "stdout",
     "output_type": "stream",
     "text": [
      "              precision    recall  f1-score   support\n",
      "\n",
      "           0       0.82      0.83      0.82       333\n",
      "           1       0.67      0.67      0.67       179\n",
      "\n",
      "    accuracy                           0.77       512\n",
      "   macro avg       0.75      0.75      0.75       512\n",
      "weighted avg       0.77      0.77      0.77       512\n",
      "\n"
     ]
    }
   ],
   "source": [
    "print(metrics.classification_report(X_train1[\"y_actual\"], X_train1[\"New_Pred\"]))"
   ]
  },
  {
   "cell_type": "code",
   "execution_count": null,
   "metadata": {},
   "outputs": [],
   "source": [
    "knn11.predict_proba(new)"
   ]
  },
  {
   "cell_type": "code",
   "execution_count": null,
   "metadata": {},
   "outputs": [],
   "source": [
    "p >0.23"
   ]
  },
  {
   "cell_type": "code",
   "execution_count": null,
   "metadata": {},
   "outputs": [],
   "source": []
  },
  {
   "cell_type": "code",
   "execution_count": 85,
   "metadata": {},
   "outputs": [],
   "source": [
    "# Reciever Operator Charactersistics"
   ]
  },
  {
   "cell_type": "code",
   "execution_count": 134,
   "metadata": {},
   "outputs": [],
   "source": [
    "from sklearn.metrics import roc_curve\n",
    "y_pred_proba = knn11.predict_proba(X_train)[:,1]\n",
    "fpr, tpr, thresholds = roc_curve(y_train, y_pred_proba)"
   ]
  },
  {
   "cell_type": "code",
   "execution_count": 135,
   "metadata": {},
   "outputs": [
    {
     "data": {
      "image/png": "[encoded data removed]",
      "text/plain": [
       "<Figure size 432x288 with 1 Axes>"
      ]
     },
     "metadata": {
      "needs_background": "light"
     },
     "output_type": "display_data"
    }
   ],
   "source": [
    "plt.plot([0,1],[0,1],'k--')\n",
    "plt.plot(fpr,tpr, label='Knn')\n",
    "plt.xlabel('fpr')\n",
    "plt.ylabel('tpr')\n",
    "plt.title('Knn(n_neighbors=11) ROC curve')\n",
    "plt.show()"
   ]
  },
  {
   "cell_type": "code",
   "execution_count": 136,
   "metadata": {},
   "outputs": [
    {
     "data": {
      "text/plain": [
       "0.8520979079638297"
      ]
     },
     "execution_count": 136,
     "metadata": {},
     "output_type": "execute_result"
    }
   ],
   "source": [
    "from sklearn.metrics import roc_auc_score\n",
    "\n",
    "AUC = roc_auc_score(y_train, y_pred_proba)\n",
    "AUC"
   ]
  },
  {
   "cell_type": "code",
   "execution_count": 138,
   "metadata": {},
   "outputs": [],
   "source": [
    "from joblib import dump\n",
    "from joblib import load "
   ]
  },
  {
   "cell_type": "code",
   "execution_count": 84,
   "metadata": {},
   "outputs": [],
   "source": [
    "# Area under the curve"
   ]
  },
  {
   "cell_type": "markdown",
   "metadata": {},
   "source": [
    "### Working on Test Data"
   ]
  },
  {
   "cell_type": "code",
   "execution_count": null,
   "metadata": {},
   "outputs": [],
   "source": []
  }
 ],
 "metadata": {
  "kernelspec": {
   "display_name": "Python 3",
   "language": "python",
   "name": "python3"
  },
  "language_info": {
   "codemirror_mode": {
    "name": "ipython",
    "version": 3
   },
   "file_extension": ".py",
   "mimetype": "text/x-python",
   "name": "python",
   "nbconvert_exporter": "python",
   "pygments_lexer": "ipython3",
   "version": "3.8.5"
  }
 },
 "nbformat": 4,
 "nbformat_minor": 2
}
